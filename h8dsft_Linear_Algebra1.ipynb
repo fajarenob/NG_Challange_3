{
  "nbformat": 4,
  "nbformat_minor": 0,
  "metadata": {
    "colab": {
      "name": "h8dsft_Linear_Algebra1.ipynb",
      "provenance": []
    },
    "kernelspec": {
      "name": "python3",
      "display_name": "Python 3"
    },
    "language_info": {
      "name": "python"
    }
  },
  "cells": [
    {
      "cell_type": "markdown",
      "metadata": {
        "id": "U-qtg_TMLrUk"
      },
      "source": [
        "#NG CHALLANGE 3"
      ]
    },
    {
      "cell_type": "markdown",
      "metadata": {
        "id": "2zZ_HueEXeRl"
      },
      "source": [
        "Nama: Fajar Reno Budiman\n",
        "\n",
        "Batch: FTDS 006"
      ]
    },
    {
      "cell_type": "code",
      "metadata": {
        "id": "F9rKKSz6DK4h"
      },
      "source": [
        "import numpy as np\n",
        "import sympy as sym\n",
        "import matplotlib.pyplot as plt\n",
        "import IPython.display as Math"
      ],
      "execution_count": 2,
      "outputs": []
    },
    {
      "cell_type": "markdown",
      "metadata": {
        "id": "7Bsm7IZyInlJ"
      },
      "source": [
        "#1. Membuat vektor array"
      ]
    },
    {
      "cell_type": "code",
      "metadata": {
        "colab": {
          "base_uri": "https://localhost:8080/"
        },
        "id": "aZgmCMh0IV_5",
        "outputId": "ed909284-c1b9-441e-9d1e-d8d048d0b274"
      },
      "source": [
        "a = np.array([17,22,19])\n",
        "print(a)"
      ],
      "execution_count": 3,
      "outputs": [
        {
          "output_type": "stream",
          "name": "stdout",
          "text": [
            "[17 22 19]\n"
          ]
        }
      ]
    },
    {
      "cell_type": "code",
      "metadata": {
        "colab": {
          "base_uri": "https://localhost:8080/"
        },
        "id": "jotperhMIgFK",
        "outputId": "1674416c-f816-4ed0-d6a4-3ea68f02e94f"
      },
      "source": [
        "a.shape"
      ],
      "execution_count": 4,
      "outputs": [
        {
          "output_type": "execute_result",
          "data": {
            "text/plain": [
              "(3,)"
            ]
          },
          "metadata": {},
          "execution_count": 4
        }
      ]
    },
    {
      "cell_type": "markdown",
      "metadata": {
        "id": "WZLPmClYIsiM"
      },
      "source": [
        "#2. Menghitung vektor"
      ]
    },
    {
      "cell_type": "code",
      "metadata": {
        "id": "RU6e5_UmIyF3"
      },
      "source": [
        "A = np.array([17,22,19])\n",
        "B = np.array ([10,20,11])\n",
        "C = np.array ([5,12,9])"
      ],
      "execution_count": 5,
      "outputs": []
    },
    {
      "cell_type": "markdown",
      "metadata": {
        "id": "Euxq5i9jJeUj"
      },
      "source": [
        "##a. Hitung A+B"
      ]
    },
    {
      "cell_type": "code",
      "metadata": {
        "colab": {
          "base_uri": "https://localhost:8080/"
        },
        "id": "Yrz7LWCPJUVa",
        "outputId": "22a38fdb-caaf-4d3b-8a09-386026f123ca"
      },
      "source": [
        "print(A+B)"
      ],
      "execution_count": 6,
      "outputs": [
        {
          "output_type": "stream",
          "name": "stdout",
          "text": [
            "[27 42 30]\n"
          ]
        }
      ]
    },
    {
      "cell_type": "markdown",
      "metadata": {
        "id": "IZShRg4FJsnF"
      },
      "source": [
        "##b. Hitung B-C"
      ]
    },
    {
      "cell_type": "code",
      "metadata": {
        "colab": {
          "base_uri": "https://localhost:8080/"
        },
        "id": "Wm_UVGNgJwwf",
        "outputId": "0876a76b-7a7f-4fe3-b397-8ee133816611"
      },
      "source": [
        "print(B-C)"
      ],
      "execution_count": 7,
      "outputs": [
        {
          "output_type": "stream",
          "name": "stdout",
          "text": [
            "[5 8 2]\n"
          ]
        }
      ]
    },
    {
      "cell_type": "markdown",
      "metadata": {
        "id": "370spno4J0E6"
      },
      "source": [
        "##c. A dot C"
      ]
    },
    {
      "cell_type": "code",
      "metadata": {
        "colab": {
          "base_uri": "https://localhost:8080/"
        },
        "id": "6c26nqXCKACq",
        "outputId": "5e9d0bd6-6c32-4a11-fc72-119d6adb0310"
      },
      "source": [
        "d = np.dot(A,C)\n",
        "d"
      ],
      "execution_count": 8,
      "outputs": [
        {
          "output_type": "execute_result",
          "data": {
            "text/plain": [
              "520"
            ]
          },
          "metadata": {},
          "execution_count": 8
        }
      ]
    },
    {
      "cell_type": "markdown",
      "metadata": {
        "id": "sUwAMOYHKNoR"
      },
      "source": [
        "##d. Hitung A x B"
      ]
    },
    {
      "cell_type": "code",
      "metadata": {
        "colab": {
          "base_uri": "https://localhost:8080/"
        },
        "id": "Ncol5F5uKR17",
        "outputId": "e8d50d52-7526-4aad-86ce-cfb8b80a4071"
      },
      "source": [
        "print(A*B) #per elemen dikali"
      ],
      "execution_count": 9,
      "outputs": [
        {
          "output_type": "stream",
          "name": "stdout",
          "text": [
            "[170 440 209]\n"
          ]
        }
      ]
    },
    {
      "cell_type": "markdown",
      "metadata": {
        "id": "g9BdZUWnKYTW"
      },
      "source": [
        "##e. Hitung norm A"
      ]
    },
    {
      "cell_type": "code",
      "metadata": {
        "colab": {
          "base_uri": "https://localhost:8080/"
        },
        "id": "S8-foTQlKrSy",
        "outputId": "17fe22ba-fb5d-4a35-d01a-e114e6ebb72b"
      },
      "source": [
        "np.linalg.norm(A)"
      ],
      "execution_count": 10,
      "outputs": [
        {
          "output_type": "execute_result",
          "data": {
            "text/plain": [
              "33.67491648096547"
            ]
          },
          "metadata": {},
          "execution_count": 10
        }
      ]
    },
    {
      "cell_type": "markdown",
      "metadata": {
        "id": "kFaQ46t9LzZo"
      },
      "source": [
        "##f. Sudut antara vektor A dan B"
      ]
    },
    {
      "cell_type": "code",
      "metadata": {
        "colab": {
          "base_uri": "https://localhost:8080/"
        },
        "id": "muBzKamFL62B",
        "outputId": "9a7e3e52-c5ca-4c80-d6a5-1f04a6ac3749"
      },
      "source": [
        "panjang_a = np.linalg.norm(A)\n",
        "panjang_b = np.linalg.norm(B)\n",
        "a_dot_b = np.dot(A,B)\n",
        "a_dot_b"
      ],
      "execution_count": 11,
      "outputs": [
        {
          "output_type": "execute_result",
          "data": {
            "text/plain": [
              "819"
            ]
          },
          "metadata": {},
          "execution_count": 11
        }
      ]
    },
    {
      "cell_type": "markdown",
      "metadata": {
        "id": "a0iUEEI4S7qG"
      },
      "source": [
        "##g. Membuat plot vektor"
      ]
    },
    {
      "cell_type": "code",
      "metadata": {
        "id": "twd3iBhCTAQp"
      },
      "source": [
        "u = np.array([2,5])\n",
        "v = np.array([3,1])\n",
        "#masih belum bisa"
      ],
      "execution_count": 12,
      "outputs": []
    },
    {
      "cell_type": "code",
      "metadata": {
        "colab": {
          "base_uri": "https://localhost:8080/",
          "height": 286
        },
        "id": "he19mNUMTLy3",
        "outputId": "2e03c9a5-b7de-4dbb-dfb2-d3e36cc83b0d"
      },
      "source": [
        "fig = plt.figure\n",
        "ax = plt.axes() #kalo mau 3d, tulisannya plt.axes(projection = '3d')\n",
        "ax.set_xlim([0,1])\n",
        "ax.set_ylim([0,1]) #kalo 3d, set buat z juga\n",
        "\n",
        "start = [0,0]\n",
        "ax.quiver(start[0],start[1],u[0],u[1])\n",
        "ax.quiver(start[0],start[1],v[0],v[1])"
      ],
      "execution_count": 17,
      "outputs": [
        {
          "output_type": "execute_result",
          "data": {
            "text/plain": [
              "<matplotlib.quiver.Quiver at 0x7fe7e5a87f90>"
            ]
          },
          "metadata": {},
          "execution_count": 17
        },
        {
          "output_type": "display_data",
          "data": {
            "image/png": "[encoded data removed]",
            "text/plain": [
              "<Figure size 432x288 with 1 Axes>"
            ]
          },
          "metadata": {
            "needs_background": "light"
          }
        }
      ]
    }
  ]
}